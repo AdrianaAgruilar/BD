{
  "nbformat": 4,
  "nbformat_minor": 0,
  "metadata": {
    "colab": {
      "name": "Practica 2.ipynb",
      "provenance": []
    },
    "kernelspec": {
      "name": "python2",
      "display_name": "Python 2"
    }
  },
  "cells": [
    {
      "cell_type": "markdown",
      "metadata": {
        "id": "yWyFB5Vv0pA2",
        "colab_type": "text"
      },
      "source": [
        "**Adriana Aguilar Alonso**"
      ]
    },
    {
      "cell_type": "markdown",
      "metadata": {
        "id": "J0hpPDAs0xVt",
        "colab_type": "text"
      },
      "source": [
        "Una base de datos con los siguinetes atributos y tipos de datos:"
      ]
    },
    {
      "cell_type": "markdown",
      "metadata": {
        "id": "PPMp9dR-6f29",
        "colab_type": "text"
      },
      "source": [
        "Imagen tabal"
      ]
    },
    {
      "cell_type": "markdown",
      "metadata": {
        "id": "afDR3kbu6hBh",
        "colab_type": "text"
      },
      "source": [
        "con un total de 50 627 392 registros, tiene un tamaño total de:"
      ]
    },
    {
      "cell_type": "markdown",
      "metadata": {
        "id": "CTsV1aUg-nOm",
        "colab_type": "text"
      },
      "source": [
        "Tabla de BD: (https://drive.google.com/drive/folders/1DVjvWu3RkHSaVLySJh_yc9mmJZZtjzZO)"
      ]
    },
    {
      "cell_type": "markdown",
      "metadata": {
        "id": "oVtVF0yQ65se",
        "colab_type": "text"
      },
      "source": [
        "Codigo en C:"
      ]
    },
    {
      "cell_type": "markdown",
      "metadata": {
        "id": "qXaMc9M_8KIN",
        "colab_type": "text"
      },
      "source": [
        "#include<stdio.h>\n",
        "#define FPP 35\n",
        "void TiposDatos();\n",
        "\n",
        "int FuncionTamanoAtributo(int tipo);\n",
        "\n",
        "main()\n",
        "\n",
        "{\n",
        "\n",
        "\tint n=0, i=1, tipo=0, registros=0;\n",
        "  \n",
        "\tint tamano_BD=0, tamano_fila=0, tamano_paguina=0;\n",
        "\n",
        "printf(\"~~~~~Estimacion de BD~~~~~\\n\\n\");\n",
        "\n",
        "printf(\"¿Cuantos atributos tiene la tabla?:  \");\n",
        "\n",
        "scanf(\"%d\",&n);\n",
        "\n",
        "system(\"cls\");\n",
        "\n",
        "TiposDatos();\n",
        "\n",
        "while(i<=n)\n",
        "\n",
        "{\t\n",
        "\n",
        "do{\n",
        "\n",
        "printf(\"\\n\\nInserta el numero de tipo dato del atributo %d:  \",i);\n",
        "\n",
        "scanf(\"%d\",&tipo);\n",
        "\n",
        "}while(tipo<1 || tipo>30);\n",
        "\n",
        "tamano_fila=tamano_fila+FuncionTamanoAtributo(tipo);\n",
        "\n",
        "i++;\t\n",
        "\n",
        "}\n",
        "\n",
        "system(\"cls\");\n",
        "\n",
        "printf(\"Cuantos registros tendrá tu BD?  \");\n",
        "\n",
        "scanf(\"%d\",&registros);\n",
        "\n",
        "tamano_paguina=FPP*tamano_fila;\n",
        "\n",
        "tamano_BD=(registros)*(tamano_fila);\n",
        "\n",
        "system(\"cls\");\n",
        "\n",
        "printf(\"~~~Datos finales~~~\\n\\n\");\n",
        "\n",
        "printf(\"\\nTamano fila: %d bytes\",tamano_fila);\n",
        "\n",
        "printf(\"\\nTamano paguina: %d bytes\",tamano_paguina);\n",
        "\n",
        "printf(\"\\nTamano BD: %d bytes\",tamano_BD);\n",
        "\n",
        "return 0;\n",
        "\n",
        "}\n",
        "\n",
        "void TiposDatos()\n",
        "\n",
        "{\n",
        "\n",
        "printf(\"~~~~~Tipo de datos~~~~~\\n\\n\");\n",
        "\n",
        "printf(\"1.Bit   \\t 2.Tinyint \\t3.Smallint   \\t4.Int \\t5.Bigint\\n\");\n",
        "\n",
        "printf(\"6.Decimal \\t 7.Numeric \\t8.Float    \\t 9.Real\\n\");\n",
        "\n",
        "printf(\"10.Date \\t 11.Time \\t12.Datetime   \\t13.Timestamp \\t14.Year\\n\");\n",
        "\n",
        "printf(\"15.Char \\t 16.Varchar \\t17.Varchar(max) \\t18.Text\\n\");\n",
        "\n",
        "printf(\"19.NChar \\t 20.NVarchar \\t21.NVarchar(max) \\t22.NText\\n\");\n",
        "\n",
        "printf(\"23.Binary \\t 24.Varbinary \\t25.Varbinary(max) \\t26.Image\");\n",
        "\n",
        "printf(\"27.Clob \\t 28.Blob\\t29.XML \\t30.JSON\\n\");\n",
        "\n",
        "}\n",
        "\n",
        "int FuncionTamanoAtributo(int m)\n",
        "\n",
        "{\n",
        "\n",
        "if(m<=10)\n",
        "\n",
        "{\n",
        "\n",
        "if(m<=5)\n",
        "\n",
        "{\n",
        "\n",
        "if(m==1){return 1;}\n",
        "\n",
        "if(m==2){return 1;}\n",
        "\n",
        "if(m==3){return 1;}\n",
        "\n",
        "if(m==4){return 2;}\n",
        "\n",
        "if(m==5){return 4;}\n",
        "\n",
        "}\n",
        "\n",
        "else\n",
        "\n",
        "{\n",
        "\n",
        "if(m==6){return 4;}\n",
        "\n",
        "if(m==7){return 4;}\n",
        "\n",
        "if(m==8){return 4;}\n",
        "\n",
        "if(m==9){return 6;}\n",
        "\n",
        "if(m==10){return 3;}\n",
        "\n",
        "}\n",
        "\n",
        "}\n",
        "\n",
        "if(m>10 && m<=20)\n",
        "\n",
        "{\n",
        "\n",
        "if(m<=15)\n",
        "\n",
        "{\n",
        "\n",
        "if(m==11){return 4;}\n",
        "\n",
        "if(m==12){return 3;}\n",
        "\n",
        "if(m==13){return 32;}\n",
        "\n",
        "if(m==14){return 1;}\n",
        "\n",
        "if(m==15){return 1;}\n",
        "\n",
        "}\n",
        "\n",
        "else\n",
        "\n",
        "{\n",
        "\n",
        "if(m==16){return 32;}\n",
        "\n",
        "if(m==17){return 268435455;}\n",
        "\n",
        "if(m==18){return 134217728;}\n",
        "\n",
        "if(m==19){return 8000;}\n",
        "\n",
        "if(m==20){return 1073741824*2;}\n",
        "\n",
        "}\n",
        "\n",
        "}\n",
        "\n",
        "else\n",
        "\n",
        "{\n",
        "\n",
        "if(m<=25)\n",
        "\n",
        "{\n",
        "\n",
        "if(m==21){return 32;}\n",
        "\n",
        "if(m==22){return 8192;}\n",
        "\n",
        "if(m==23){return 1;}\n",
        "\n",
        "if(m==24){return 8192;}\n",
        "\n",
        "if(m==25){return 8192;}\n",
        "\n",
        "}\n",
        "\n",
        "else\n",
        "\n",
        "{\n",
        "\n",
        "if(m==26){return 1073741824*2;}\n",
        "\n",
        "if(m==27){return 1073741824*2;}\n",
        "\n",
        "if(m==28){return 1073741824;}\n",
        "\n",
        "if(m==29){return 64;}\n",
        "\n",
        "if(m==30){return 64;}\n",
        "\n",
        "}\n",
        "\n",
        "}\n",
        "\n",
        "}"
      ]
    },
    {
      "cell_type": "markdown",
      "metadata": {
        "id": "-pdMrzEr8gl4",
        "colab_type": "text"
      },
      "source": [
        "con u tamaño final de fila: 402653453 bytes\n",
        "\n",
        "tamaño página: 1207968967 bytes\n",
        "\n",
        "tamaño de BD: 733866560 bytes"
      ]
    },
    {
      "cell_type": "markdown",
      "metadata": {
        "id": "EY9H-P-Q9O22",
        "colab_type": "text"
      },
      "source": [
        "Figura programa 1: (https://drive.google.com/drive/folders/1DVjvWu3RkHSaVLySJh_yc9mmJZZtjzZO)\n",
        "\n",
        "Figura programa 2: (https://drive.google.com/drive/folders/1DVjvWu3RkHSaVLySJh_yc9mmJZZtjzZO)\n",
        "\n",
        "Figura programa 3: (https://drive.google.com/drive/folders/1DVjvWu3RkHSaVLySJh_yc9mmJZZtjzZO)"
      ]
    }
  ]
}