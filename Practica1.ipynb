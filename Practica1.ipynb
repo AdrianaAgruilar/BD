{
  "nbformat": 4,
  "nbformat_minor": 0,
  "metadata": {
    "colab": {
      "name": "Practica1.ipynb",
      "provenance": []
    },
    "kernelspec": {
      "name": "python2",
      "display_name": "Python 2"
    }
  },
  "cells": [
    {
      "cell_type": "markdown",
      "metadata": {
        "id": "hgZhVJUDq8jL",
        "colab_type": "text"
      },
      "source": [
        "**Adriana Aguilar Alonso**"
      ]
    },
    {
      "cell_type": "markdown",
      "metadata": {
        "id": "dS53WqKVwvTt",
        "colab_type": "text"
      },
      "source": [
        "API: Es una interfaz de programación de aplicaciones. Es un conjunto de rutinas que provee acceso a funciones de un determinado software.\n",
        "\n",
        "Son publicadas por los constructores de software para permitir acceso a características de bajo nivel o propietarias, detallando solamente la forma en que cada rutina debe ser llevada a cabo y la funcionalidad que brinda, sin otorgar información acerca de cómo se lleva a cabo la tarea. Son utilizadas por los programadores para construir sus aplicaciones sin necesidad de volver a programar funciones ya hechas por otros, reutilizando código que se sabe que está probado y que funciona correctamente. "
      ]
    },
    {
      "cell_type": "markdown",
      "metadata": {
        "id": "5DHHsfk3xlRm",
        "colab_type": "text"
      },
      "source": [
        "Figura 1:(https://drive.google.com/drive/folders/1DVjvWu3RkHSaVLySJh_yc9mmJZZtjzZO)\n",
        "\n",
        "Figura 2: (https://drive.google.com/drive/folders/1DVjvWu3RkHSaVLySJh_yc9mmJZZtjzZO)"
      ]
    },
    {
      "cell_type": "markdown",
      "metadata": {
        "id": "ly9dGXTn0N8L",
        "colab_type": "text"
      },
      "source": [
        ""
      ]
    }
  ]
}